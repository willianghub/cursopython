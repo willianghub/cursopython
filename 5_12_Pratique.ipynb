{
  "nbformat": 4,
  "nbformat_minor": 0,
  "metadata": {
    "colab": {
      "provenance": []
    },
    "kernelspec": {
      "name": "python3",
      "display_name": "Python 3"
    },
    "language_info": {
      "name": "python"
    }
  },
  "cells": [
    {
      "cell_type": "code",
      "execution_count": null,
      "metadata": {
        "id": "76QoqEhylWdC"
      },
      "outputs": [],
      "source": [
        "#1. Utilize o comando ‘input’ para receber ao menos 2 números de entrada do usuário;\n",
        "\n",
        "#2. Converta os valores recebidos pelo usuário para número inteiro (int) ou ponto flutuante (float);\n",
        "\n",
        "#3. Implemente ao menos 4 operações matemáticas em seu código;\n",
        "\n",
        "#4. Adicione um laço de repetição ou uma condicional. Por exemplo: você pode permitir que o usuário escolha qual operação realizar ou criar um loop que permita ao usuário realizar várias operações consecutivas;\n",
        "\n",
        "#5. Utilize o comando ‘print’ para exibir o resultado da operação matemática."
      ]
    },
    {
      "cell_type": "code",
      "source": [
        "numUm = input(\"Digite o primeiro número: \")\n",
        "numDois= input(\"Digite o segundo número: \")\n",
        "\n",
        "numUmConv = int(numUm)\n",
        "numDoisConv = int (numDois)\n",
        "\n",
        "soma = numUmConv + numDoisConv\n",
        "sub = numUmConv - numDoisConv\n",
        "mult = numUmConv * numDoisConv\n",
        "\n",
        "while True:\n",
        "  print(\"\\nOpções disponíveis:\")\n",
        "  print(\"1. Soma;\")\n",
        "  print(\"2. Subtração;\")\n",
        "  print(\"3. Multiplicação;\")\n",
        "  print(\"4. Divisão;\")\n",
        "  print(\"5. Encerrar calculadora.\")\n",
        "\n",
        "  escolha = input(\"\\nQual a operação desejada?\")\n",
        "\n",
        "  if escolha == \"1\":\n",
        "    print(\"\\nO resultado da soma dos dois números é: \",soma)\n",
        "  elif escolha ==\"2\":\n",
        "    print(\"\\nO resultado da subtração do primeiro número pelo segundo número é: \",sub)\n",
        "  elif escolha ==\"3\":\n",
        "    print(\"\\nO resultado da multiplicação dos dois números é: \",mult)\n",
        "  elif escolha ==\"4\":\n",
        "    if numDoisConv == 0:\n",
        "      print(\"\\nVocê não pode dividir um número por 0! Escolha outra opção.\")\n",
        "    else:\n",
        "      div = numUmConv / numDoisConv\n",
        "      print(\"\\nO resultado da divisão do primeiro número pelo segundo número é: \",div)\n",
        "  elif escolha ==\"5\":\n",
        "    print(\"\\nEncerrando calculadora...\")\n",
        "    break\n",
        "  else: print(\"\\nOpção inválida.\")\n",
        "\n"
      ],
      "metadata": {
        "id": "Bc9NjwEjlwGo"
      },
      "execution_count": null,
      "outputs": []
    }
  ]
}